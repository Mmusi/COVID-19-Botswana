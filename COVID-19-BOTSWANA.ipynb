{
 "cells": [
  {
   "cell_type": "markdown",
   "metadata": {},
   "source": [
    "# BOTSWANA"
   ]
  },
  {
   "cell_type": "markdown",
   "metadata": {},
   "source": [
    "# How many cases of COVID-19 does Botswana really have?\n",
    "> Reported Botswana cases counts are based on an etestimated  number of suspected cases that turned out to be mostly negative. Since information is extracted from various sources not everyone is tested, the numbers wiil be somewhat biased. \n",
    "\n",
    "- Author: Thato Seeletso Mmusi\n",
    "- Country: [Botswana]\n"
   ]
  },
  {
   "cell_type": "markdown",
   "metadata": {},
   "source": [
    "SHORT SYNOPSIS OF NOTEBOOK"
   ]
  },
  {
   "cell_type": "markdown",
   "metadata": {},
   "source": [
    "The following world map illustrates all countries in the world affected by COVID-19. As seen on the map, Botswana is one of the few countries in the world yet to report a confirmed case of COVID-19. In the following notebook I will model the most basic data on Botswana and illustrate it graphically, followed by a look at what is going on in countries surrounding Botswana as well as a summary of the pandemic effects on world leading countries."
   ]
  },
  {
   "cell_type": "markdown",
   "metadata": {},
   "source": [
    "<img src=\"img/outbreak-coronavirus-world.png\" style=\"\" />"
   ]
  },
  {
   "cell_type": "markdown",
   "metadata": {},
   "source": [
    "Below is the latest information I could extract from various sources in Botswana. I cross checked it with the information on a flyer updatevfrom the Ministry of Health  on the BWGovernment Facebook page. < - share- URL>\n",
    "\n",
    "- <url Ministry of Health - Botswana>\n",
    "- <url BWGovernment - Botswana> \n",
    "\n",
    "    Below is the electronic of such data\n",
    "    \n",
    "    <img src=\"img/bwGovernment_update.jpg\" />\n",
    "    figure 2.1\n",
    "    \n",
    "    NB: Data is not easily available locally(in most cases one has to acquire it themselves, and in some instances ask for   \n",
    "    permission), there is still plenty of red tape acquiring it. "
   ]
  },
  {
   "cell_type": "markdown",
   "metadata": {},
   "source": [
    "To work with the only publicily avaialble data in Botswana I will start by importing the following <a href=\"\">pandas</a> convention\n",
    "NB: Please note throughout the notebook I will be using the same conventions as follows: \n"
   ]
  },
  {
   "cell_type": "code",
   "execution_count": 3,
   "metadata": {},
   "outputs": [],
   "source": [
    "from pandas import Series, DataFrame\n",
    "import pandas as pd"
   ]
  },
  {
   "cell_type": "markdown",
   "metadata": {},
   "source": [
    "If you pause and take a look above you will realize I have imported two data structures namely the \"Series\" & \"DataFrame\"  from pandas package. \n",
    "\n",
    "\n",
    "- So, the reader wiil come across pd. more often in the code, it would just be the shortcut to the pandas library.\n",
    "- In addition because the \"Series\" and \"DataFrame\" are used more so often it is easier if i import them into the local    \n",
    "  namespace.\n",
    "  \n",
    "I will work with the available Botswana data using the two structures as follows:"
   ]
  },
  {
   "cell_type": "markdown",
   "metadata": {},
   "source": [
    "# Series"
   ]
  },
  {
   "cell_type": "markdown",
   "metadata": {},
   "source": [
    "I will start manipulating the data using the Series Workhorse of the pandas library"
   ]
  },
  {
   "cell_type": "markdown",
   "metadata": {},
   "source": [
    "A Series is a one-dimensional object containing an array of data and an associated array of data labels, called its index.\n",
    "- An array like object containing any <a href=\"\">NumPy</a> data type\n",
    "- The simplest Series is created from only an array of data:"
   ]
  },
  {
   "cell_type": "markdown",
   "metadata": {},
   "source": [
    "Below I reproduce the Government data as given on above illustrated figure 2.1"
   ]
  },
  {
   "cell_type": "code",
   "execution_count": 6,
   "metadata": {},
   "outputs": [
    {
     "data": {
      "text/plain": [
       "0    1753\n",
       "1     259\n",
       "2      90\n",
       "3       0\n",
       "4     169\n",
       "dtype: int64"
      ]
     },
     "execution_count": 6,
     "metadata": {},
     "output_type": "execute_result"
    }
   ],
   "source": [
    "obj = Series([1753, 259, 90, 0, 169])\n",
    "obj "
   ]
  },
  {
   "cell_type": "markdown",
   "metadata": {},
   "source": [
    "The string representation of a Series is displayed interactively:\n",
    "\n",
    "- On the left is the index \n",
    "- On the right are the values of string representation. \n",
    "\n",
    "Note: in the above example I did not specify an index for the data,so by default\n",
    "one consisting of the integers 0 through N - 1 (where N is the length of the data) is\n",
    "created. "
   ]
  },
  {
   "cell_type": "markdown",
   "metadata": {},
   "source": [
    "Before I can assign each data point to an index to identify the series I think it is best here to illustrate the fact that a series is array-like object by doing the following:\n",
    "      Get the array representation and index object of the Series through \n",
    "        - its values\n",
    "        - index attributes"
   ]
  },
  {
   "cell_type": "code",
   "execution_count": 9,
   "metadata": {},
   "outputs": [
    {
     "data": {
      "text/plain": [
       "array([1753,  259,   90,    0,  169], dtype=int64)"
      ]
     },
     "execution_count": 9,
     "metadata": {},
     "output_type": "execute_result"
    }
   ],
   "source": [
    "obj.values"
   ]
  },
  {
   "cell_type": "code",
   "execution_count": 10,
   "metadata": {},
   "outputs": [
    {
     "data": {
      "text/plain": [
       "RangeIndex(start=0, stop=5, step=1)"
      ]
     },
     "execution_count": 10,
     "metadata": {},
     "output_type": "execute_result"
    }
   ],
   "source": [
    "obj.index"
   ]
  },
  {
   "cell_type": "markdown",
   "metadata": {},
   "source": [
    "To further expand on the available data that I have already created a Series data structure, I will now  to create  index identifying each data point:"
   ]
  },
  {
   "cell_type": "code",
   "execution_count": 38,
   "metadata": {},
   "outputs": [
    {
     "data": {
      "text/plain": [
       "Number Quarantined Cases                1753\n",
       "Number of Suspected Cases                259\n",
       "Number of Cases that tested Negative      90\n",
       "Number of Cases that tested Positive       0\n",
       "Pending Resuts                           169\n",
       "dtype: int64"
      ]
     },
     "execution_count": 38,
     "metadata": {},
     "output_type": "execute_result"
    }
   ],
   "source": [
    "\n",
    "object_2 = Series([1753, 259, 90, 0, 169], index=['Number Quarantined Cases', 'Number of Suspected Cases', 'Number of Cases that tested Negative', 'Number of Cases that tested Positive', 'Pending Resuts'])\n",
    "object_2\n"
   ]
  },
  {
   "cell_type": "code",
   "execution_count": 31,
   "metadata": {},
   "outputs": [
    {
     "data": {
      "text/plain": [
       "<matplotlib.axes._subplots.AxesSubplot at 0x2177ba84188>"
      ]
     },
     "execution_count": 31,
     "metadata": {},
     "output_type": "execute_result"
    },
    {
     "data": {
      "image/png": "[encoded data removed]",
      "text/plain": [
       "<Figure size 432x288 with 1 Axes>"
      ]
     },
     "metadata": {
      "needs_background": "light"
     },
     "output_type": "display_data"
    }
   ],
   "source": [
    "object_2.plot(kind='barh')"
   ]
  },
  {
   "cell_type": "markdown",
   "metadata": {},
   "source": [
    "Next I will do the same thing I did aboe using DataFrame"
   ]
  },
  {
   "cell_type": "markdown",
   "metadata": {},
   "source": [
    " # DataFrame"
   ]
  },
  {
   "cell_type": "markdown",
   "metadata": {},
   "source": [
    "A DataFrame represents a tabular, data structure containing an ordered\n",
    "collection of columns, each of which can be a different value type (numeric,\n",
    "string, boolean).The DataFrame has both a row and column index;"
   ]
  },
  {
   "cell_type": "code",
   "execution_count": 52,
   "metadata": {},
   "outputs": [
    {
     "data": {
      "text/html": [
       "<div>\n",
       "<style scoped>\n",
       "    .dataframe tbody tr th:only-of-type {\n",
       "        vertical-align: middle;\n",
       "    }\n",
       "\n",
       "    .dataframe tbody tr th {\n",
       "        vertical-align: top;\n",
       "    }\n",
       "\n",
       "    .dataframe thead th {\n",
       "        text-align: right;\n",
       "    }\n",
       "</style>\n",
       "<table border=\"1\" class=\"dataframe\">\n",
       "  <thead>\n",
       "    <tr style=\"text-align: right;\">\n",
       "      <th></th>\n",
       "      <th>Measures Taken</th>\n",
       "      <th>Cases Counted</th>\n",
       "    </tr>\n",
       "  </thead>\n",
       "  <tbody>\n",
       "    <tr>\n",
       "      <th>0</th>\n",
       "      <td>Quarantined</td>\n",
       "      <td>1753</td>\n",
       "    </tr>\n",
       "    <tr>\n",
       "      <th>1</th>\n",
       "      <td>Suspected/Tested Cases</td>\n",
       "      <td>259</td>\n",
       "    </tr>\n",
       "    <tr>\n",
       "      <th>2</th>\n",
       "      <td>Negative Tests</td>\n",
       "      <td>90</td>\n",
       "    </tr>\n",
       "    <tr>\n",
       "      <th>3</th>\n",
       "      <td>Positive Tests</td>\n",
       "      <td>0</td>\n",
       "    </tr>\n",
       "    <tr>\n",
       "      <th>4</th>\n",
       "      <td>Awaiting Results</td>\n",
       "      <td>169</td>\n",
       "    </tr>\n",
       "  </tbody>\n",
       "</table>\n",
       "</div>"
      ],
      "text/plain": [
       "           Measures Taken  Cases Counted\n",
       "0             Quarantined           1753\n",
       "1  Suspected/Tested Cases            259\n",
       "2          Negative Tests             90\n",
       "3          Positive Tests              0\n",
       "4        Awaiting Results            169"
      ]
     },
     "execution_count": 52,
     "metadata": {},
     "output_type": "execute_result"
    }
   ],
   "source": [
    "data = {'Measures Taken': ['Quarantined', 'Suspected/Tested Cases', 'Negative Tests', 'Positive Tests', 'Awaiting Results'],\n",
    "'Cases Counted': [1753, 259, 90, 0, 169]}\n",
    "frame = DataFrame(data)\n",
    "frame"
   ]
  },
  {
   "cell_type": "code",
   "execution_count": 53,
   "metadata": {},
   "outputs": [
    {
     "data": {
      "text/html": [
       "<div>\n",
       "<style scoped>\n",
       "    .dataframe tbody tr th:only-of-type {\n",
       "        vertical-align: middle;\n",
       "    }\n",
       "\n",
       "    .dataframe tbody tr th {\n",
       "        vertical-align: top;\n",
       "    }\n",
       "\n",
       "    .dataframe thead th {\n",
       "        text-align: right;\n",
       "    }\n",
       "</style>\n",
       "<table border=\"1\" class=\"dataframe\">\n",
       "  <thead>\n",
       "    <tr style=\"text-align: right;\">\n",
       "      <th></th>\n",
       "      <th>Measures Taken</th>\n",
       "      <th>Cases Counted</th>\n",
       "    </tr>\n",
       "  </thead>\n",
       "  <tbody>\n",
       "    <tr>\n",
       "      <th>Quarantined</th>\n",
       "      <td>Quarantined</td>\n",
       "      <td>1753</td>\n",
       "    </tr>\n",
       "    <tr>\n",
       "      <th>Suspected/Tested Cases</th>\n",
       "      <td>Suspected/Tested Cases</td>\n",
       "      <td>259</td>\n",
       "    </tr>\n",
       "    <tr>\n",
       "      <th>Negative Tests</th>\n",
       "      <td>Negative Tests</td>\n",
       "      <td>90</td>\n",
       "    </tr>\n",
       "    <tr>\n",
       "      <th>Positive Tests</th>\n",
       "      <td>Positive Tests</td>\n",
       "      <td>0</td>\n",
       "    </tr>\n",
       "    <tr>\n",
       "      <th>Awaiting Results</th>\n",
       "      <td>Awaiting Results</td>\n",
       "      <td>169</td>\n",
       "    </tr>\n",
       "  </tbody>\n",
       "</table>\n",
       "</div>"
      ],
      "text/plain": [
       "                                Measures Taken  Cases Counted\n",
       "Quarantined                        Quarantined           1753\n",
       "Suspected/Tested Cases  Suspected/Tested Cases            259\n",
       "Negative Tests                  Negative Tests             90\n",
       "Positive Tests                  Positive Tests              0\n",
       "Awaiting Results              Awaiting Results            169"
      ]
     },
     "execution_count": 53,
     "metadata": {},
     "output_type": "execute_result"
    }
   ],
   "source": [
    "frame2 = DataFrame(data, columns=['Measures Taken', 'Cases Counted'],\n",
    "....: index=['Quarantined', 'Suspected/Tested Cases', 'Negative Tests', 'Positive Tests', 'Awaiting Results'])\n",
    "\n",
    "frame2"
   ]
  },
  {
   "cell_type": "code",
   "execution_count": 56,
   "metadata": {},
   "outputs": [
    {
     "data": {
      "text/plain": [
       "'Quarantined'"
      ]
     },
     "execution_count": 56,
     "metadata": {},
     "output_type": "execute_result"
    }
   ],
   "source": [
    "frame['Measures Taken'][0]"
   ]
  },
  {
   "cell_type": "code",
   "execution_count": 58,
   "metadata": {},
   "outputs": [
    {
     "data": {
      "text/plain": [
       "<matplotlib.axes._subplots.AxesSubplot at 0x2177bd360c8>"
      ]
     },
     "execution_count": 58,
     "metadata": {},
     "output_type": "execute_result"
    },
    {
     "data": {
      "image/png": "[encoded data removed]",
      "text/plain": [
       "<Figure size 432x288 with 1 Axes>"
      ]
     },
     "metadata": {
      "needs_background": "light"
     },
     "output_type": "display_data"
    }
   ],
   "source": [
    "frame2.plot(kind='barh')"
   ]
  },
  {
   "cell_type": "code",
   "execution_count": null,
   "metadata": {},
   "outputs": [],
   "source": [
    "\n",
    "                            "
   ]
  },
  {
   "cell_type": "code",
   "execution_count": null,
   "metadata": {},
   "outputs": [],
   "source": []
  }
 ],
 "metadata": {
  "kernelspec": {
   "display_name": "Python 3",
   "language": "python",
   "name": "python3"
  },
  "language_info": {
   "codemirror_mode": {
    "name": "ipython",
    "version": 3
   },
   "file_extension": ".py",
   "mimetype": "text/x-python",
   "name": "python",
   "nbconvert_exporter": "python",
   "pygments_lexer": "ipython3",
   "version": "3.7.4"
  }
 },
 "nbformat": 4,
 "nbformat_minor": 4
}
