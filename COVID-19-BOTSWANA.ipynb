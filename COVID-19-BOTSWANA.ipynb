{
  "nbformat": 4,
  "nbformat_minor": 0,
  "metadata": {
    "kernelspec": {
      "display_name": "Python 3",
      "language": "python",
      "name": "python3"
    },
    "language_info": {
      "codemirror_mode": {
        "name": "ipython",
        "version": 3
      },
      "file_extension": ".py",
      "mimetype": "text/x-python",
      "name": "python",
      "nbconvert_exporter": "python",
      "pygments_lexer": "ipython3",
      "version": "3.7.6"
    },
    "colab": {
      "name": "COVID-19-BOTSWANA.ipynb",
      "provenance": [],
      "include_colab_link": true
    }
  },
  "cells": [
    {
      "cell_type": "markdown",
      "metadata": {
        "id": "view-in-github",
        "colab_type": "text"
      },
      "source": [
        "<a href=\"https://colab.research.google.com/github/Mmusi/COVID-19-Botswana/blob/master/COVID-19-BOTSWANA.ipynb\" target=\"_parent\"><img src=\"https://colab.research.google.com/assets/colab-badge.svg\" alt=\"Open In Colab\"/></a>"
      ]
    },
    {
      "cell_type": "markdown",
      "metadata": {
        "id": "-y_Rs1fj4-NN",
        "colab_type": "text"
      },
      "source": [
        "# BOTSWANA\n"
      ]
    },
    {
      "cell_type": "markdown",
      "metadata": {
        "id": "AbbMJzla4-NS",
        "colab_type": "text"
      },
      "source": [
        "# How many cases of COVID-19 does Botswana really have?\n",
        "> Reported Botswana cases counts are based on an etestimated  number of suspected cases that turned out to be mostly negative.Updated information coming from the MOH has confirmed four (4) cases that tested positive. Since information is extracted from various sources not everyone is tested, the numbers will be somewhat biased. \n",
        "\n",
        "- Author: Thato Seeletso Mmusi\n",
        "- Country: Botswana"
      ]
    },
    {
      "cell_type": "markdown",
      "metadata": {
        "id": "qxya58YW4-NV",
        "colab_type": "text"
      },
      "source": [
        "SHORT DESCRIPTION OF THE NOTEBOOK"
      ]
    },
    {
      "cell_type": "markdown",
      "metadata": {
        "id": "fTg5fCv04-Na",
        "colab_type": "text"
      },
      "source": [
        "The following world map illustrates all countries in the world affected by COVID-19. As seen on the map, Botswana now has four confirmed cases - 4 cases tested positive with one death. In the following notebook I will model the most basic data on Botswana and illustrate it graphically, followed by a look at what is going on in countries surrounding Botswana as well as a summary of the pandemic effects on world leading countries."
      ]
    },
    {
      "cell_type": "markdown",
      "metadata": {
        "id": "whwBh_U14-Nd",
        "colab_type": "text"
      },
      "source": [
        "<img src=\"https://camo.githubusercontent.com/1fa430f92b9a149023e599a08111de7588fc6682/68747470733a2f2f73746f726167652e677569646f7474692e6465762f636f76696431392f6d61702f776f726c642e676966\" style=\"\" /> "
      ]
    },
    {
      "cell_type": "markdown",
      "metadata": {
        "id": "jxbRbbJs4-Nf",
        "colab_type": "text"
      },
      "source": [
        "DISCLAIMER map sourced from https://github.com/emanuele-guidotti/COVID19 by Emanuele Guidotti "
      ]
    },
    {
      "cell_type": "markdown",
      "metadata": {
        "id": "vAZ47-np4-Nh",
        "colab_type": "text"
      },
      "source": [
        "Below is the latest information I could extract from various sources in Botswana. I cross checked it with the information on a flyer updatevfrom the Ministry of Health  on the BWGovernment Facebook page.\n",
        "\n",
        "- <a href=\"https://www.moh.gov.bw/\" >Ministry of Health - Botswana</a>\n",
        "- <a href=\"https://www.facebook.com/BotswanaGovernment/photos/a.617504571665538/2860234297392543/?type=3&eid=ARCv5y5VQ3ZX9zkob078fNi6aI_VCls2CIWk6ESk9IJ2NPhme-C7JlVKEKIzjboPUsUSNVU-zhxUYqOz&__xts__%5B0%5D=68.ARBvq0OXssAWyyYcw-x_BvUvtndgvRu6c5nI2jBkZXzf_XOOAqLhTC7e6f-tdwwvVvOxUHU7egM5pJJOW19HOCLF5tJaMoLiUpn-PU4ml3RQjrtSpygSY4AoH2Mx6iAz4EGaZ_OUOv-iKoMtM72VOeOOYWOE0-stk_4jND2ruLesSvHs5llrliQvig3IntPzJnoQxMYwA_YGZOLlqeLd_YvWYcj9tB_05Efa9cfF85QidnPhG6nXWaUo62jyEIxmNSPi_fPhQDO1rqPrv_onzTsOAAu3L_T62pLujG2imLFcDBWv4r6MSCW-XNG3DxiSSpwKqppG7gWFjlyiYB7LqC9g6w&__tn__=EHH-R\">BWGovernment - Botswana</a> \n",
        "\n",
        "    Below is the electronic of such data\n",
        "    \n",
        "    <img src=\"https://github.com/Mmusi/COVID-19-Botswana/blob/master/img/bwGovernment_update.jpg?raw=1\" style=\"width:50%; height:50%;\" />\n",
        "    figure 2.1\n",
        "    \n",
        "    As of 30 March 2020 Botswana recorded it first three (3) confirmed cases.\n",
        "    \n",
        "    <img src=\"https://github.com/Mmusi/COVID-19-Botswana/blob/master/img/BwGovernment%2031-03-2020.jpg?raw=1\" style=\"width:50%; height:50%;\" />\n",
        "    figure 2.1.1\n",
        "    \n",
        "    <img src=\"https://github.com/Mmusi/COVID-19-Botswana/blob/master/img/BwGovernment%2004-04-2020.jpg?raw=1\" style=\"width:50%; height:50%;\" />\n",
        "    figure 2.1.2\n",
        "    \n",
        "    The information illustrated by picture figure 2.1.2 above was first released on the 3rd April 2020 by the Ministry of   \n",
        "    Health in Botswana. \n",
        " \n",
        "    It was updated in the evening of same day to 2001 people quarantined, 670 people tested, 572 tested negative, 4 tested    \n",
        "    positive with 1 death.\n",
        "    \n",
        "    Latest updates as of 06/04/2020\n",
        "    \n",
        "    <img src=\"https://github.com/Mmusi/COVID-19-Botswana/blob/master/img/Botswana%20Covid-19/06-04-2020.png?raw=1\" style=\"width:50%; height:50%;\" />\n",
        "\n",
        "    \n",
        "    NB: Data is not easily available locally(in most cases one has to acquire it themselves, and in some instances ask for   \n",
        "    permission), there is still plenty of red tape acquiring it. "
      ]
    },
    {
      "cell_type": "markdown",
      "metadata": {
        "id": "3E17RVMb4-Nj",
        "colab_type": "text"
      },
      "source": [
        "To work with the only publicily avaialble data in Botswana I will start by importing the following <a href=\"\">pandas</a> convention\n",
        "NB: Please note throughout the notebook I will be using the same conventions as follows: "
      ]
    },
    {
      "cell_type": "code",
      "metadata": {
        "id": "3B1xn43G4-Nj",
        "colab_type": "code",
        "colab": {}
      },
      "source": [
        "from pandas import Series, DataFrame\n",
        "import pandas as pd"
      ],
      "execution_count": 0,
      "outputs": []
    },
    {
      "cell_type": "markdown",
      "metadata": {
        "id": "RFNdokPz4-Ny",
        "colab_type": "text"
      },
      "source": [
        "If you pause and take a look above you will realize I have imported two data structures namely the \"Series\" & \"DataFrame\"  from pandas package. \n",
        "\n",
        "\n",
        "- So, the reader wiil come across pd. more often in the code, it would just be the shortcut to the pandas library.\n",
        "- In addition because the \"Series\" and \"DataFrame\" are used more so often it is easier if i import them into the local    \n",
        "  namespace.\n",
        "  \n",
        "I will work with the available Botswana data using the two structures as follows:"
      ]
    },
    {
      "cell_type": "markdown",
      "metadata": {
        "id": "bMSgh7x34-Ny",
        "colab_type": "text"
      },
      "source": [
        "# Series"
      ]
    },
    {
      "cell_type": "markdown",
      "metadata": {
        "id": "IhjBtXqM4-Ny",
        "colab_type": "text"
      },
      "source": [
        "I will start manipulating the data using the Series Workhorse of the pandas library"
      ]
    },
    {
      "cell_type": "markdown",
      "metadata": {
        "id": "d5cEqPZC4-Ny",
        "colab_type": "text"
      },
      "source": [
        "A Series is a one-dimensional object containing an array of data and an associated array of data labels, called its index.\n",
        "- An array like object containing any <a href=\"\">NumPy</a> data type\n",
        "- The simplest Series is created from only an array of data:"
      ]
    },
    {
      "cell_type": "markdown",
      "metadata": {
        "id": "8RkC92Y84-Ny",
        "colab_type": "text"
      },
      "source": [
        "Below I reproduce the Government data as given on above illustrated figure 2.1"
      ]
    },
    {
      "cell_type": "code",
      "metadata": {
        "id": "7MrCfnb84-Ny",
        "colab_type": "code",
        "colab": {},
        "outputId": "d185a489-87ba-4747-b80f-46eeafc66b58"
      },
      "source": [
        "obj = Series([2001, 966, 804, 6, 1, 156])\n",
        "obj "
      ],
      "execution_count": 0,
      "outputs": [
        {
          "output_type": "execute_result",
          "data": {
            "text/plain": [
              "0    2001\n",
              "1     966\n",
              "2     804\n",
              "3       6\n",
              "4       1\n",
              "5     156\n",
              "dtype: int64"
            ]
          },
          "metadata": {
            "tags": []
          },
          "execution_count": 5
        }
      ]
    },
    {
      "cell_type": "markdown",
      "metadata": {
        "id": "DaVd16LY4-OC",
        "colab_type": "text"
      },
      "source": [
        "The string representation of a Series is displayed interactively:\n",
        "\n",
        "- On the left is the index \n",
        "- On the right are the values of string representation. \n",
        "\n",
        "Note: in the above example I did not specify an index for the data,so by default\n",
        "one consisting of the integers 0 through N - 1 (where N is the length of the data) is\n",
        "created. "
      ]
    },
    {
      "cell_type": "code",
      "metadata": {
        "id": "r8mRSuXw4-OC",
        "colab_type": "code",
        "colab": {},
        "outputId": "e316f921-56d5-4ff0-c26c-18d59904012c"
      },
      "source": [
        "obj.values"
      ],
      "execution_count": 0,
      "outputs": [
        {
          "output_type": "execute_result",
          "data": {
            "text/plain": [
              "array([2001,  966,  804,    6,    1,  156], dtype=int64)"
            ]
          },
          "metadata": {
            "tags": []
          },
          "execution_count": 6
        }
      ]
    },
    {
      "cell_type": "code",
      "metadata": {
        "id": "_QRK_A6-4-OS",
        "colab_type": "code",
        "colab": {},
        "outputId": "c902f9d2-1989-49eb-a7ca-181dd20955c0"
      },
      "source": [
        "obj.index"
      ],
      "execution_count": 0,
      "outputs": [
        {
          "output_type": "execute_result",
          "data": {
            "text/plain": [
              "RangeIndex(start=0, stop=6, step=1)"
            ]
          },
          "metadata": {
            "tags": []
          },
          "execution_count": 7
        }
      ]
    },
    {
      "cell_type": "markdown",
      "metadata": {
        "id": "pCDIcfII4-O0",
        "colab_type": "text"
      },
      "source": [
        "To further expand on the available data that I have already created a Series data structure, I will now  to create  index identifying each data point:"
      ]
    },
    {
      "cell_type": "code",
      "metadata": {
        "id": "Pc7a4Ij84-O2",
        "colab_type": "code",
        "colab": {},
        "outputId": "d43a8a96-9843-4b94-ade6-f78747f2953a"
      },
      "source": [
        "\n",
        "object_2 = Series([2001, 966, 804, 6, 1, 156], index=['Number Quarantined Cases', 'Number of Suspected Cases', 'Number of Cases that tested Negative', 'Number of Cases that tested Positive','Deaths', 'Pending Resuts'])\n",
        "object_2"
      ],
      "execution_count": 0,
      "outputs": [
        {
          "output_type": "execute_result",
          "data": {
            "text/plain": [
              "Number Quarantined Cases                2001\n",
              "Number of Suspected Cases                966\n",
              "Number of Cases that tested Negative     804\n",
              "Number of Cases that tested Positive       6\n",
              "Deaths                                     1\n",
              "Pending Resuts                           156\n",
              "dtype: int64"
            ]
          },
          "metadata": {
            "tags": []
          },
          "execution_count": 8
        }
      ]
    },
    {
      "cell_type": "code",
      "metadata": {
        "id": "FhgR_il04-PD",
        "colab_type": "code",
        "colab": {},
        "outputId": "673d3a56-4e63-4bb5-8645-9f3352f7a44e"
      },
      "source": [
        "object_2.plot(kind='bar')"
      ],
      "execution_count": 0,
      "outputs": [
        {
          "output_type": "execute_result",
          "data": {
            "text/plain": [
              "<matplotlib.axes._subplots.AxesSubplot at 0x19eb66264c8>"
            ]
          },
          "metadata": {
            "tags": []
          },
          "execution_count": 9
        },
        {
          "output_type": "display_data",
          "data": {
            "image/png": "[encoded data removed]",
            "text/plain": [
              "<Figure size 432x288 with 1 Axes>"
            ]
          },
          "metadata": {
            "tags": [],
            "needs_background": "light"
          }
        }
      ]
    },
    {
      "cell_type": "markdown",
      "metadata": {
        "id": "XB-RtAu64-PH",
        "colab_type": "text"
      },
      "source": [
        "Next I will do the same thing I did aboe using DataFrame"
      ]
    },
    {
      "cell_type": "markdown",
      "metadata": {
        "id": "wBTuo6dA4-PH",
        "colab_type": "text"
      },
      "source": [
        " # DataFrame"
      ]
    },
    {
      "cell_type": "markdown",
      "metadata": {
        "id": "_mCqKzIx4-PH",
        "colab_type": "text"
      },
      "source": [
        "A DataFrame represents a tabular, data structure containing an ordered\n",
        "collection of columns, each of which can be a different value type (numeric,\n",
        "string, boolean).The DataFrame has both a row and column index;"
      ]
    },
    {
      "cell_type": "code",
      "metadata": {
        "id": "sPHRrtg-4-PH",
        "colab_type": "code",
        "colab": {},
        "outputId": "bf4924ba-207e-42f6-f50f-453e6408b4c3"
      },
      "source": [
        "data = {'Measures Taken': ['Quarantined', 'Suspected/Tested Cases', 'Negative Tests', 'Positive Tests','Deaths', 'Awaiting Results'],\n",
        "'Cases Counted': [2001, 966, 804, 6, 1, 156]}\n",
        "frame = DataFrame(data)\n",
        "frame"
      ],
      "execution_count": 0,
      "outputs": [
        {
          "output_type": "execute_result",
          "data": {
            "text/html": [
              "<div>\n",
              "<style scoped>\n",
              "    .dataframe tbody tr th:only-of-type {\n",
              "        vertical-align: middle;\n",
              "    }\n",
              "\n",
              "    .dataframe tbody tr th {\n",
              "        vertical-align: top;\n",
              "    }\n",
              "\n",
              "    .dataframe thead th {\n",
              "        text-align: right;\n",
              "    }\n",
              "</style>\n",
              "<table border=\"1\" class=\"dataframe\">\n",
              "  <thead>\n",
              "    <tr style=\"text-align: right;\">\n",
              "      <th></th>\n",
              "      <th>Measures Taken</th>\n",
              "      <th>Cases Counted</th>\n",
              "    </tr>\n",
              "  </thead>\n",
              "  <tbody>\n",
              "    <tr>\n",
              "      <th>0</th>\n",
              "      <td>Quarantined</td>\n",
              "      <td>2001</td>\n",
              "    </tr>\n",
              "    <tr>\n",
              "      <th>1</th>\n",
              "      <td>Suspected/Tested Cases</td>\n",
              "      <td>966</td>\n",
              "    </tr>\n",
              "    <tr>\n",
              "      <th>2</th>\n",
              "      <td>Negative Tests</td>\n",
              "      <td>804</td>\n",
              "    </tr>\n",
              "    <tr>\n",
              "      <th>3</th>\n",
              "      <td>Positive Tests</td>\n",
              "      <td>6</td>\n",
              "    </tr>\n",
              "    <tr>\n",
              "      <th>4</th>\n",
              "      <td>Deaths</td>\n",
              "      <td>1</td>\n",
              "    </tr>\n",
              "    <tr>\n",
              "      <th>5</th>\n",
              "      <td>Awaiting Results</td>\n",
              "      <td>156</td>\n",
              "    </tr>\n",
              "  </tbody>\n",
              "</table>\n",
              "</div>"
            ],
            "text/plain": [
              "           Measures Taken  Cases Counted\n",
              "0             Quarantined           2001\n",
              "1  Suspected/Tested Cases            966\n",
              "2          Negative Tests            804\n",
              "3          Positive Tests              6\n",
              "4                  Deaths              1\n",
              "5        Awaiting Results            156"
            ]
          },
          "metadata": {
            "tags": []
          },
          "execution_count": 10
        }
      ]
    },
    {
      "cell_type": "code",
      "metadata": {
        "id": "Ef5ZX0QJ4-PW",
        "colab_type": "code",
        "colab": {},
        "outputId": "11e053d6-2218-4477-94fc-29b8702f4678"
      },
      "source": [
        "frame2 = DataFrame(data, columns=['Measures Taken', 'Cases Counted'],\n",
        "....: index=['Quarantined', 'Suspected/Tested Cases', 'Negative Tests', 'Positive Tests', 'Deaths', 'Awaiting Results'])\n",
        "\n",
        "frame2"
      ],
      "execution_count": 0,
      "outputs": [
        {
          "output_type": "execute_result",
          "data": {
            "text/html": [
              "<div>\n",
              "<style scoped>\n",
              "    .dataframe tbody tr th:only-of-type {\n",
              "        vertical-align: middle;\n",
              "    }\n",
              "\n",
              "    .dataframe tbody tr th {\n",
              "        vertical-align: top;\n",
              "    }\n",
              "\n",
              "    .dataframe thead th {\n",
              "        text-align: right;\n",
              "    }\n",
              "</style>\n",
              "<table border=\"1\" class=\"dataframe\">\n",
              "  <thead>\n",
              "    <tr style=\"text-align: right;\">\n",
              "      <th></th>\n",
              "      <th>Measures Taken</th>\n",
              "      <th>Cases Counted</th>\n",
              "    </tr>\n",
              "  </thead>\n",
              "  <tbody>\n",
              "    <tr>\n",
              "      <th>Quarantined</th>\n",
              "      <td>Quarantined</td>\n",
              "      <td>2001</td>\n",
              "    </tr>\n",
              "    <tr>\n",
              "      <th>Suspected/Tested Cases</th>\n",
              "      <td>Suspected/Tested Cases</td>\n",
              "      <td>966</td>\n",
              "    </tr>\n",
              "    <tr>\n",
              "      <th>Negative Tests</th>\n",
              "      <td>Negative Tests</td>\n",
              "      <td>804</td>\n",
              "    </tr>\n",
              "    <tr>\n",
              "      <th>Positive Tests</th>\n",
              "      <td>Positive Tests</td>\n",
              "      <td>6</td>\n",
              "    </tr>\n",
              "    <tr>\n",
              "      <th>Deaths</th>\n",
              "      <td>Deaths</td>\n",
              "      <td>1</td>\n",
              "    </tr>\n",
              "    <tr>\n",
              "      <th>Awaiting Results</th>\n",
              "      <td>Awaiting Results</td>\n",
              "      <td>156</td>\n",
              "    </tr>\n",
              "  </tbody>\n",
              "</table>\n",
              "</div>"
            ],
            "text/plain": [
              "                                Measures Taken  Cases Counted\n",
              "Quarantined                        Quarantined           2001\n",
              "Suspected/Tested Cases  Suspected/Tested Cases            966\n",
              "Negative Tests                  Negative Tests            804\n",
              "Positive Tests                  Positive Tests              6\n",
              "Deaths                                  Deaths              1\n",
              "Awaiting Results              Awaiting Results            156"
            ]
          },
          "metadata": {
            "tags": []
          },
          "execution_count": 11
        }
      ]
    },
    {
      "cell_type": "markdown",
      "metadata": {
        "id": "QifZcIGf4-P2",
        "colab_type": "text"
      },
      "source": [
        "NB: PLEASE NOTE IT IS NOT YET COLEAR THE CASE OF DEATH WAS FROM THOSE AWAITING RESULTS. WILL CLEAR IT AS TIME GOES ON"
      ]
    },
    {
      "cell_type": "code",
      "metadata": {
        "id": "kyUF9c934-P2",
        "colab_type": "code",
        "colab": {},
        "outputId": "61dc2bac-8d54-43c6-fcfc-513784dce863"
      },
      "source": [
        "frame['Measures Taken'][0]"
      ],
      "execution_count": 0,
      "outputs": [
        {
          "output_type": "execute_result",
          "data": {
            "text/plain": [
              "'Quarantined'"
            ]
          },
          "metadata": {
            "tags": []
          },
          "execution_count": 12
        }
      ]
    },
    {
      "cell_type": "code",
      "metadata": {
        "id": "1ACbd-M14-P2",
        "colab_type": "code",
        "colab": {},
        "outputId": "2c1b0386-73d1-4856-a17e-68312a6d104e"
      },
      "source": [
        "frame2.plot(kind='bar')"
      ],
      "execution_count": 0,
      "outputs": [
        {
          "output_type": "execute_result",
          "data": {
            "text/plain": [
              "<matplotlib.axes._subplots.AxesSubplot at 0x19eb683f908>"
            ]
          },
          "metadata": {
            "tags": []
          },
          "execution_count": 13
        },
        {
          "output_type": "display_data",
          "data": {
            "image/png": "[encoded data removed]",
            "text/plain": [
              "<Figure size 432x288 with 1 Axes>"
            ]
          },
          "metadata": {
            "tags": [],
            "needs_background": "light"
          }
        }
      ]
    },
    {
      "cell_type": "markdown",
      "metadata": {
        "id": "6CCvKxNF4-QL",
        "colab_type": "text"
      },
      "source": [
        "But looking at the information I am working with I think it is cluttered and and could be arranged or done in a better way... I will try illustrating this by usng a pie chart to show the Total Suspected cases as an overall picture of Total tested, those who tested positive, those who tested negative and those with pending results."
      ]
    },
    {
      "cell_type": "code",
      "metadata": {
        "id": "S2zfdBUX4-QN",
        "colab_type": "code",
        "colab": {},
        "outputId": "f600992c-1529-471b-d006-09f4823f79d5"
      },
      "source": [
        "frame3 = DataFrame(data, columns=['Measures Taken', 'Cases Counted'],\n",
        "....: index=['Quarantined', 'Suspected/Tested Cases', 'Negative Tests', 'Positive Tests', 'Deaths', 'Awaiting Results'])\n",
        "\n",
        "frame3"
      ],
      "execution_count": 0,
      "outputs": [
        {
          "output_type": "execute_result",
          "data": {
            "text/html": [
              "<div>\n",
              "<style scoped>\n",
              "    .dataframe tbody tr th:only-of-type {\n",
              "        vertical-align: middle;\n",
              "    }\n",
              "\n",
              "    .dataframe tbody tr th {\n",
              "        vertical-align: top;\n",
              "    }\n",
              "\n",
              "    .dataframe thead th {\n",
              "        text-align: right;\n",
              "    }\n",
              "</style>\n",
              "<table border=\"1\" class=\"dataframe\">\n",
              "  <thead>\n",
              "    <tr style=\"text-align: right;\">\n",
              "      <th></th>\n",
              "      <th>Measures Taken</th>\n",
              "      <th>Cases Counted</th>\n",
              "    </tr>\n",
              "  </thead>\n",
              "  <tbody>\n",
              "    <tr>\n",
              "      <th>Quarantined</th>\n",
              "      <td>Quarantined</td>\n",
              "      <td>2001</td>\n",
              "    </tr>\n",
              "    <tr>\n",
              "      <th>Suspected/Tested Cases</th>\n",
              "      <td>Suspected/Tested Cases</td>\n",
              "      <td>966</td>\n",
              "    </tr>\n",
              "    <tr>\n",
              "      <th>Negative Tests</th>\n",
              "      <td>Negative Tests</td>\n",
              "      <td>804</td>\n",
              "    </tr>\n",
              "    <tr>\n",
              "      <th>Positive Tests</th>\n",
              "      <td>Positive Tests</td>\n",
              "      <td>6</td>\n",
              "    </tr>\n",
              "    <tr>\n",
              "      <th>Deaths</th>\n",
              "      <td>Deaths</td>\n",
              "      <td>1</td>\n",
              "    </tr>\n",
              "    <tr>\n",
              "      <th>Awaiting Results</th>\n",
              "      <td>Awaiting Results</td>\n",
              "      <td>156</td>\n",
              "    </tr>\n",
              "  </tbody>\n",
              "</table>\n",
              "</div>"
            ],
            "text/plain": [
              "                                Measures Taken  Cases Counted\n",
              "Quarantined                        Quarantined           2001\n",
              "Suspected/Tested Cases  Suspected/Tested Cases            966\n",
              "Negative Tests                  Negative Tests            804\n",
              "Positive Tests                  Positive Tests              6\n",
              "Deaths                                  Deaths              1\n",
              "Awaiting Results              Awaiting Results            156"
            ]
          },
          "metadata": {
            "tags": []
          },
          "execution_count": 14
        }
      ]
    },
    {
      "cell_type": "code",
      "metadata": {
        "id": "tUB7UE7Y4-QP",
        "colab_type": "code",
        "colab": {},
        "outputId": "40907958-bbc1-4b34-cc8c-ec4b87654115"
      },
      "source": [
        "df = pd.DataFrame({'Suspected Cases': [1, 804, 6, 156]},\n",
        "                  index=['Deaths','Tested Negative', 'Tested Positive', 'Awaiting Results'])\n",
        "plot = df.plot.pie(y='Suspected Cases', figsize=(5, 5))"
      ],
      "execution_count": 0,
      "outputs": [
        {
          "output_type": "display_data",
          "data": {
            "image/png": "[encoded data removed]",
            "text/plain": [
              "<Figure size 360x360 with 1 Axes>"
            ]
          },
          "metadata": {
            "tags": []
          }
        }
      ]
    },
    {
      "cell_type": "code",
      "metadata": {
        "id": "tg33AkjG4-Qe",
        "colab_type": "code",
        "colab": {}
      },
      "source": [
        ""
      ],
      "execution_count": 0,
      "outputs": []
    },
    {
      "cell_type": "code",
      "metadata": {
        "id": "JcZ3F1Qv4-Qe",
        "colab_type": "code",
        "colab": {}
      },
      "source": [
        ""
      ],
      "execution_count": 0,
      "outputs": []
    }
  ]
}