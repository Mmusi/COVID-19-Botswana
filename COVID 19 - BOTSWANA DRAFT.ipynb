{
 "cells": [
  {
   "cell_type": "markdown",
   "metadata": {},
   "source": [
    "# BOTSWANA"
   ]
  },
  {
   "cell_type": "markdown",
   "metadata": {},
   "source": [
    "# How many cases of COVID-19 does Botswana really have?\n",
    "> Reported Botswana cases counts are based on an etestimated  number of suspected cases that turned out to be mostly negative. Since not everyone is tested, the numbers wiil be somewhat biased. We will use bayesian techniques to estimate the true number of cases in Botswana.\n",
    "\n",
    "- Author: Thato Seeletso Mmusi\n",
    "- Country: [Botswana]\n",
    "- Permalink: /covid-19-Botswana-suspected- cases-estimation/"
   ]
  },
  {
   "cell_type": "markdown",
   "metadata": {},
   "source": [
    "Paste map detailing World Covid-19 cases here..."
   ]
  },
  {
   "cell_type": "code",
   "execution_count": null,
   "metadata": {},
   "outputs": [],
   "source": []
  }
 ],
 "metadata": {
  "kernelspec": {
   "display_name": "Python 3",
   "language": "python",
   "name": "python3"
  },
  "language_info": {
   "codemirror_mode": {
    "name": "ipython",
    "version": 3
   },
   "file_extension": ".py",
   "mimetype": "text/x-python",
   "name": "python",
   "nbconvert_exporter": "python",
   "pygments_lexer": "ipython3",
   "version": "3.7.6"
  }
 },
 "nbformat": 4,
 "nbformat_minor": 4
}
