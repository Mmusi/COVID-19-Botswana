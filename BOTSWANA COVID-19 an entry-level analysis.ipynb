{
 "cells": [
  {
   "cell_type": "markdown",
   "metadata": {},
   "source": [
    "   # Data Modelling and Analysis of Covid-19  Botswana\n",
    "   #                    Learning Data Science\n",
    "\n",
    "              \n",
    "              Sarting my journey as a story teller – Thato Seeletso Mmusi"
   ]
  },
  {
   "cell_type": "markdown",
   "metadata": {},
   "source": [
    "A quick look around the internet, one will pick up alot of dashboards as well as data around the Corona Virus ependicmic. Many Data Scientists are trying to use Data Science to give their expert opiions and contribute to the “flattening of the curve”. As a new  entrant to the field of Data Analysis am fascinated by all these different strategies used by different countries from social distancing , lockdown amongst others. It is clear these strategies most are based on decisions partly arrived at by Data Scientists.\n",
    "\n",
    "When going through all these hordes of information online I normally find myself trying to compare some of the data I go through with that from my country Botswana. So far I have been failing to get any except from the little numbers that I get over the radio or when ministers brief the nation on National Television – BTV. This frustrate me so much that I am now trying to create my own COVID-19 Dataset and even go a step further by modelling it before presenting the data visually using my foundational knowledge.\n",
    "\n",
    "I will try to explain the common beliefs about COVID-19 spread by using the dataset I will create and update on a daily basis based on information I gather."
   ]
  },
  {
   "cell_type": "markdown",
   "metadata": {},
   "source": [
    " ##  Modelling the Data and Anaylsis of the Covid Virus and  Developing the dataset"
   ]
  },
  {
   "cell_type": "markdown",
   "metadata": {},
   "source": [
    "The web provides many official and unofficial data sources released for the Covid-19 related data. Though as I already alluded most do not have any information with regards to Botswana Hence why I decided to create myself one. I will also on open source platforms contribute to adding information about Botswana upon being confirmed which I will later show on linkedIn.\n",
    "\n",
    "NB: Note on the 31st March the situational repot by WHO showed that Botswana had confirmed cases of about 3 people with no death, but today wikipedia had already updated their sources to 4 confirmed cases with one death as per contribution by cabinet ministers and officials from the Ministry of Health on the 03/04/2020 on national television 18:00hrs GMT time.\n",
    "\n",
    " Some of the prominent data sources in the web are but not limited to the following links:\n",
    "\n",
    "https://www.arcgis.com/apps/opsdashboard/index.html#/bda7594740fd40299423467b48e9ecf6 \n",
    "https://apps.who.int/iris/bitstream/handle/10665/331655/SITREP_COVID-19_WHOAFRO_20200401-eng.pdf \n",
    "https://en.wikipedia.org/wiki/2019%E2%80%9320_coronavirus_pandemic_by_country_and_territory \n",
    "https://data.humdata.org/dataset/novel-coronavirus-2019-ncov-cases "
   ]
  },
  {
   "cell_type": "markdown",
   "metadata": {},
   "source": [
    "Before any modelling can take place there have to be a dataset, but as mentioned ealier we don have any easily available in Botswana. In some cases you can get an abrupt answer as such information is classified when enquiring from relevant authorities such as in the Ministry of Health and Statistics Botswana.\n",
    "\n",
    "So I will start by creating my own “DATASET”.   \n",
    "\n",
    "The follwing are some of the pblicily available sources hat are available that I will use to come up with the dataset:"
   ]
  },
  {
   "cell_type": "code",
   "execution_count": 1,
   "metadata": {},
   "outputs": [],
   "source": [
    "from pandas import Series, DataFrame\n",
    "import pandas as pd"
   ]
  },
  {
   "cell_type": "markdown",
   "metadata": {},
   "source": [
    "Next I import the datasets"
   ]
  },
  {
   "cell_type": "code",
   "execution_count": 3,
   "metadata": {},
   "outputs": [
    {
     "name": "stdout",
     "output_type": "stream",
     "text": [
      "(258, 77)\n",
      "(258, 77)\n",
      "(244, 77)\n",
      "(181, 8)\n"
     ]
    }
   ],
   "source": [
    "confirmed_df = pd.read_csv('C:/Users/y4...4#1#1/Desktop/Data Science Study/Exercises\\/COVID-19 Botswana/covid-19/time_series_covid19_confirmed_global.csv')\n",
    "print(confirmed_df.shape)\n",
    "\n",
    "deaths_df = pd.read_csv('C:/Users/y4...4#1#1/Desktop/Data Science Study/Exercises\\/COVID-19 Botswana/covid-19/time_series_covid19_deaths_global.csv')\n",
    "print(deaths_df.shape)\n",
    "\n",
    "recovered_df = pd.read_csv('C:/Users/y4...4#1#1/Desktop/Data Science Study/Exercises\\/COVID-19 Botswana/covid-19/time_series_covid19_recovered_global.csv')\n",
    "print(recovered_df.shape)\n",
    "\n",
    "cases_df = pd.read_csv('C:/Users/y4...4#1#1/Desktop/Data Science Study/Exercises\\/COVID-19 Botswana/covid-19/cases_country.csv')\n",
    "print(cases_df.shape)"
   ]
  },
  {
   "cell_type": "markdown",
   "metadata": {},
   "source": [
    "  In all my analysis that will follow I will use the datset that I have directly imported into the  \n",
    "  data frames as shown above, the dataFrames are as follows \n",
    "\n",
    "- confirmed_df\n",
    "- deaths_df \n",
    "- recovered_df\n",
    "- cases_df"
   ]
  },
  {
   "cell_type": "markdown",
   "metadata": {},
   "source": [
    "To view columns in the confirmed_cases and an illustration we code as follows: "
   ]
  },
  {
   "cell_type": "code",
   "execution_count": 4,
   "metadata": {},
   "outputs": [
    {
     "data": {
      "text/plain": [
       "Index(['Province/State', 'Country/Region', 'Lat', 'Long', '1/22/20', '1/23/20',\n",
       "       '1/24/20', '1/25/20', '1/26/20', '1/27/20', '1/28/20', '1/29/20',\n",
       "       '1/30/20', '1/31/20', '2/1/20', '2/2/20', '2/3/20', '2/4/20', '2/5/20',\n",
       "       '2/6/20', '2/7/20', '2/8/20', '2/9/20', '2/10/20', '2/11/20', '2/12/20',\n",
       "       '2/13/20', '2/14/20', '2/15/20', '2/16/20', '2/17/20', '2/18/20',\n",
       "       '2/19/20', '2/20/20', '2/21/20', '2/22/20', '2/23/20', '2/24/20',\n",
       "       '2/25/20', '2/26/20', '2/27/20', '2/28/20', '2/29/20', '3/1/20',\n",
       "       '3/2/20', '3/3/20', '3/4/20', '3/5/20', '3/6/20', '3/7/20', '3/8/20',\n",
       "       '3/9/20', '3/10/20', '3/11/20', '3/12/20', '3/13/20', '3/14/20',\n",
       "       '3/15/20', '3/16/20', '3/17/20', '3/18/20', '3/19/20', '3/20/20',\n",
       "       '3/21/20', '3/22/20', '3/23/20', '3/24/20', '3/25/20', '3/26/20',\n",
       "       '3/27/20', '3/28/20', '3/29/20', '3/30/20', '3/31/20', '4/1/20',\n",
       "       '4/2/20', '4/3/20'],\n",
       "      dtype='object')"
      ]
     },
     "execution_count": 4,
     "metadata": {},
     "output_type": "execute_result"
    }
   ],
   "source": [
    "confirmed_df.columns"
   ]
  },
  {
   "cell_type": "markdown",
   "metadata": {},
   "source": [
    "The above datasets clearly illustrates a time series dataset"
   ]
  },
  {
   "cell_type": "code",
   "execution_count": 5,
   "metadata": {},
   "outputs": [
    {
     "data": {
      "text/plain": [
       "Index(['Country_Region', 'Last_Update', 'Lat', 'Long_', 'Confirmed', 'Deaths',\n",
       "       'Recovered', 'Active'],\n",
       "      dtype='object')"
      ]
     },
     "execution_count": 5,
     "metadata": {},
     "output_type": "execute_result"
    }
   ],
   "source": [
    "cases_df.columns"
   ]
  },
  {
   "cell_type": "markdown",
   "metadata": {},
   "source": [
    "I will start by going over the data and checking were as a country Botswana we stand, as well as the effect the pandemic has had all over the world. I will use a trick or rather say an already existing Python function that does summation for all the cases."
   ]
  },
  {
   "cell_type": "markdown",
   "metadata": {},
   "source": [
    " ### Botswana"
   ]
  },
  {
   "cell_type": "code",
   "execution_count": 11,
   "metadata": {},
   "outputs": [
    {
     "data": {
      "text/html": [
       "<style  type=\"text/css\" >\n",
       "</style><table id=\"T_cd305118_770c_11ea_92e2_8c89a599befc\" ><thead>    <tr>        <th class=\"blank level0\" ></th>        <th class=\"col_heading level0 col0\" >Confirmed</th>        <th class=\"col_heading level0 col1\" >Deaths</th>        <th class=\"col_heading level0 col2\" >Recovered</th>        <th class=\"col_heading level0 col3\" >Active</th>    </tr></thead><tbody>\n",
       "                <tr>\n",
       "                        <th id=\"T_cd305118_770c_11ea_92e2_8c89a599befclevel0_row0\" class=\"row_heading level0 row0\" >0</th>\n",
       "                        <td id=\"T_cd305118_770c_11ea_92e2_8c89a599befcrow0_col0\" class=\"data row0 col0\" >4</td>\n",
       "                        <td id=\"T_cd305118_770c_11ea_92e2_8c89a599befcrow0_col1\" class=\"data row0 col1\" >1</td>\n",
       "                        <td id=\"T_cd305118_770c_11ea_92e2_8c89a599befcrow0_col2\" class=\"data row0 col2\" >0</td>\n",
       "                        <td id=\"T_cd305118_770c_11ea_92e2_8c89a599befcrow0_col3\" class=\"data row0 col3\" >3</td>\n",
       "            </tr>\n",
       "    </tbody></table>"
      ],
      "text/plain": [
       "<pandas.io.formats.style.Styler at 0x239f9672788>"
      ]
     },
     "execution_count": 11,
     "metadata": {},
     "output_type": "execute_result"
    }
   ],
   "source": [
    "confirmed_Botswana = cases_df[cases_df['Country_Region'] == \"Botswana\"]\n",
    "confirmed_Botswana = confirmed_Botswana.drop(['Lat', 'Long_', 'Country_Region', 'Last_Update'], axis = 1)\n",
    "Botswana_Summary = pd.DataFrame(confirmed_Botswana.sum()).transpose()\n",
    "Botswana_Summary.style.format(\"{:,.0f}\")"
   ]
  },
  {
   "cell_type": "markdown",
   "metadata": {},
   "source": [
    "and our biggest neighbour South Africa.. I have decided to include South Africa as everything that happens there affects our small country"
   ]
  },
  {
   "cell_type": "markdown",
   "metadata": {},
   "source": [
    "### South Africa"
   ]
  },
  {
   "cell_type": "code",
   "execution_count": 21,
   "metadata": {},
   "outputs": [
    {
     "data": {
      "text/html": [
       "<style  type=\"text/css\" >\n",
       "</style><table id=\"T_0024a358_7713_11ea_97ef_8c89a599befc\" ><thead>    <tr>        <th class=\"blank level0\" ></th>        <th class=\"col_heading level0 col0\" >Confirmed</th>        <th class=\"col_heading level0 col1\" >Deaths</th>        <th class=\"col_heading level0 col2\" >Recovered</th>        <th class=\"col_heading level0 col3\" >Active</th>    </tr></thead><tbody>\n",
       "                <tr>\n",
       "                        <th id=\"T_0024a358_7713_11ea_97ef_8c89a599befclevel0_row0\" class=\"row_heading level0 row0\" >0</th>\n",
       "                        <td id=\"T_0024a358_7713_11ea_97ef_8c89a599befcrow0_col0\" class=\"data row0 col0\" >1,505</td>\n",
       "                        <td id=\"T_0024a358_7713_11ea_97ef_8c89a599befcrow0_col1\" class=\"data row0 col1\" >9</td>\n",
       "                        <td id=\"T_0024a358_7713_11ea_97ef_8c89a599befcrow0_col2\" class=\"data row0 col2\" >95</td>\n",
       "                        <td id=\"T_0024a358_7713_11ea_97ef_8c89a599befcrow0_col3\" class=\"data row0 col3\" >1,401</td>\n",
       "            </tr>\n",
       "    </tbody></table>"
      ],
      "text/plain": [
       "<pandas.io.formats.style.Styler at 0x239f98d44c8>"
      ]
     },
     "execution_count": 21,
     "metadata": {},
     "output_type": "execute_result"
    }
   ],
   "source": [
    "confirmed_SouthAfrica = cases_df[cases_df['Country_Region'] == \"South Africa\"]\n",
    "confirmed_SouthAfrica = confirmed_SouthAfrica.drop(['Lat', 'Long_', 'Country_Region', 'Last_Update'], axis = 1)\n",
    "SA_Summary = pd.DataFrame(confirmed_SouthAfrica.sum()).transpose()\n",
    "SA_Summary.style.format(\"{:,.0f}\")"
   ]
  },
  {
   "cell_type": "markdown",
   "metadata": {},
   "source": [
    "And now for the world the figures are as follows"
   ]
  },
  {
   "cell_type": "markdown",
   "metadata": {},
   "source": [
    "### Rest of World"
   ]
  },
  {
   "cell_type": "code",
   "execution_count": 8,
   "metadata": {},
   "outputs": [
    {
     "data": {
      "text/html": [
       "<style  type=\"text/css\" >\n",
       "</style><table id=\"T_61f551de_770b_11ea_985c_8c89a599befc\" ><thead>    <tr>        <th class=\"blank level0\" ></th>        <th class=\"col_heading level0 col0\" >Confirmed</th>        <th class=\"col_heading level0 col1\" >Deaths</th>        <th class=\"col_heading level0 col2\" >Recovered</th>        <th class=\"col_heading level0 col3\" >Active</th>    </tr></thead><tbody>\n",
       "                <tr>\n",
       "                        <th id=\"T_61f551de_770b_11ea_985c_8c89a599befclevel0_row0\" class=\"row_heading level0 row0\" >0</th>\n",
       "                        <td id=\"T_61f551de_770b_11ea_985c_8c89a599befcrow0_col0\" class=\"data row0 col0\" >1,140,327</td>\n",
       "                        <td id=\"T_61f551de_770b_11ea_985c_8c89a599befcrow0_col1\" class=\"data row0 col1\" >60,887</td>\n",
       "                        <td id=\"T_61f551de_770b_11ea_985c_8c89a599befcrow0_col2\" class=\"data row0 col2\" >233,930</td>\n",
       "                        <td id=\"T_61f551de_770b_11ea_985c_8c89a599befcrow0_col3\" class=\"data row0 col3\" >573,989</td>\n",
       "            </tr>\n",
       "    </tbody></table>"
      ],
      "text/plain": [
       "<pandas.io.formats.style.Styler at 0x239f86d3408>"
      ]
     },
     "execution_count": 8,
     "metadata": {},
     "output_type": "execute_result"
    }
   ],
   "source": [
    "global_data = cases_df.copy().drop(['Lat', 'Long_', 'Country_Region', 'Last_Update'], axis = 1)\n",
    "global_summary = pd.DataFrame(global_data.sum()).transpose()\n",
    "global_summary.style.format(\"{:,.0f}\")"
   ]
  },
  {
   "cell_type": "code",
   "execution_count": null,
   "metadata": {},
   "outputs": [],
   "source": []
  }
 ],
 "metadata": {
  "kernelspec": {
   "display_name": "Python 3",
   "language": "python",
   "name": "python3"
  },
  "language_info": {
   "codemirror_mode": {
    "name": "ipython",
    "version": 3
   },
   "file_extension": ".py",
   "mimetype": "text/x-python",
   "name": "python",
   "nbconvert_exporter": "python",
   "pygments_lexer": "ipython3",
   "version": "3.7.6"
  }
 },
 "nbformat": 4,
 "nbformat_minor": 4
}
