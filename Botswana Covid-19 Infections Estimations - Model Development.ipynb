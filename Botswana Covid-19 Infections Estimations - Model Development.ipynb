{
 "cells": [
  {
   "cell_type": "code",
   "execution_count": 39,
   "metadata": {},
   "outputs": [],
   "source": [
    "import math \n",
    "import numpy as np \n",
    "import pandas as pd \n",
    "import scipy.optimize as optim \n",
    "import matplotlib.pyplot as plt\n",
    "from datetime import datetime, timedelta,date\n",
    "\n",
    "#defining dates and converting to datetime from string (will later create function to convert) \n",
    "str_28 = datetime(2020,3,28,0,0) \n",
    "str_29 = datetime(2020,3,29,0,0)\n",
    "str_1 = datetime(2020,4,1,0,0) \n",
    "str_2 = datetime(2020,4,2,0,0) \n",
    "str_4 = datetime(2020,4,4,0,0) \n",
    "str_5 = datetime(2020,4,5,0,0)\n",
    "str_6 = datetime(2020,4,6,0,0) \n",
    "str_9 = datetime(2020,4,9,0,0) \n",
    "datetime_string_format = '%b %d %Y, %H:%M:%S' \n",
    "\n",
    "da_28 = datetime.strftime(str_28,datetime_string_format) \n",
    "da_29 = datetime.strftime(str_29,datetime_string_format) \n",
    "da_1 = datetime.strftime(str_1,datetime_string_format) \n",
    "da_2 = datetime.strftime(str_2,datetime_string_format) \n",
    "da_4 = datetime.strftime(str_4,datetime_string_format) \n",
    "da_5 = datetime.strftime(str_5,datetime_string_format)  \n",
    "da_6 = datetime.strftime(str_6,datetime_string_format) \n",
    "da_9 = datetime.strftime(str_9,datetime_string_format) \n",
    "\n",
    "\n",
    "\n",
    "def my_logistic(t, a, b, c):  \n",
    "    return c / (1 + a * np.exp(-b*t))\n",
    "\n",
    "\n",
    "#Function to execute the logistic growth curve\n",
    "#def my_logistic(t):  \n",
    "    #return 13 / (1 + 12 * math.exp(-2 * t))"
   ]
  },
  {
   "cell_type": "markdown",
   "metadata": {},
   "source": [
    "# Estimating The Infected Population From Confirmed Cases\n",
    "\n",
    "<hr>\n",
    "\n",
    "<h1 style=\"font-size:18px;\">A Botswana Covid-19 Case for Estimation Model</h1> \n",
    "\n",
    "> PURPOSE: To create a model that would be able to estimate the number of infected people in Botswana based on the number of Deaths and Confirmed cases. \n",
    "\n",
    "- Categories: [Growth, Compare, Estimate]\n",
    "- Author: Thato Seeletso Mmusi"
   ]
  },
  {
   "cell_type": "markdown",
   "metadata": {},
   "source": [
    "# Table of Contents :\n",
    " [Abstract](#Abstract)\n",
    "1.  [Introduction](#Introduction)\n",
    "* [Methodology](#Methodology)\n",
    "\n",
    "* [The Logistic Growth Formula](#The-logistic-Growth-Formula)\n",
    "   * [Logistic Growth](#The-Formula)\n",
    "   * [The Formula Explained](#Botswana-vs-World)\n",
    "   * [Case for Formula Using Botswana Data](#Case-for-Formula-Using-Botswana-Data)\n",
    "   * [Writing the formula in Python](#Writing-the-formula-in-Python)\n",
    "   * [Quick Requirements Check](#Quick-Requirements-Check)\n",
    "\n",
    "* [Building the real Corona Virus Curve Botswana](#Building-the-real-Corona-Virus-Curve-Botswana)\n",
    "  * [Covid-19 Spread Botswana](#Covid-19-Spread-Botswana)\n",
    "  * [Nonlinear Least Squares Estimation](#Nonlinear-Least-Squares-estimation)\n",
    "\n",
    "* [Results](#Results)\n",
    "   * [The Estimation Model](#The-Estimation-Model)\n",
    "   * [Discussion](#Discussion )\n",
    "   \n",
    "* [Conclusion](#Conclusion)\n",
    "* [References](#References)"
   ]
  },
  {
   "cell_type": "markdown",
   "metadata": {},
   "source": [
    "### Abstract\n",
    "\n",
    "<hr>\n",
    "\n",
    "In this article I will use Data Science to develop a model that will be able to show the spread of covid-19 over a given period of time and as well predict its spread by using the mathematics function: The Logistic Growth model.\n",
    "\n",
    "The model, in its entirety is characterized by its sharp growth initially and a sharp decline in growth a the end as you get closer to the maximum as in population in case of Covid-19 Botswana case. This will be as the more the population catches the virus the growth of contracting it greatly reduces.\n",
    "\n",
    "I have chosen this mathematic function because as seen in science publications the covid-19 epidemic and also as in China entirely follows an exponential growth initially before finally subsidizing. This means the total period can be modelled with a Logistic Growth. \n",
    "\n",
    "<span style=\"font-size:16px;\">The Logistic Growth Formula</span>\n",
    "\n",
    "<img src=\"img/logistic_for.png\">\n"
   ]
  },
  {
   "cell_type": "markdown",
   "metadata": {},
   "source": [
    "### Introduction\n",
    "\n",
    "<hr>\n",
    "\n",
    "Corona Virus has ravaged the world over at an alarming rate. The disease though has not yet taken center stage in Botswana as in other hardly hit countries, it has already claimed one life and currently as of Monday 13th April 2020 there has been 13 confirmed cases of people with Corona Virus. These figures are coming from confirmed tests of about 2527 people, which is just about the capacity the country can operate at in terms of testing given our available facilities. \n",
    "\n",
    "This figure only makes for about 0.03% of the population of Botswana being tested at this particular point.This clealy leaves the questions \n",
    "\n",
    " - if enough people are not being tested, how many people out there could be infected?\n",
    " - and if it breaks out what would be the rate of infection and when would it subsidize?\n",
    "\n",
    "It would be useful for decision makers to know the impact covid-19 has had on Botswana and possibly how long the pandemic would last. This information could be particularly important for allowance of proper planning and alocation of resources for a small country like Botswana with limited resources.\n",
    "\n",
    "It is therefore follows that, this piece will endeavor to answer the above questions by creating a model that could be used as a tool for estimating the number of infected people and how long the pandemic could last in Botswana as well as other parts of the world."
   ]
  },
  {
   "cell_type": "markdown",
   "metadata": {},
   "source": [
    "### Methodology\n",
    "\n",
    "<hr>\n",
    "\n",
    "Amongst the tools chosen to be used is the mathematics function <span style=\"font-size:17px\">Logistic Growth Function</span>which as already illustrated shares the same characteristics with Coviod-19 outbreak trends.  \n",
    "\n",
    " - Logistic Growth Function\n",
    "\n",
    "Data science tools will be used to integrate the mathematics function into a model that will be able to provide the answers to our questions. The model will be built using Python programming language, using Jupyter Notebooks for creating visualisations that will be used for the analysis. \n",
    "\n",
    "Tools to be used \n",
    " \n",
    " - Python\n",
    " - Jupyter Notebooks\n",
    "\n",
    "\n",
    "There will be need for Botswana Covid-19 data to be used for testing of the model. This data is collected from various news outlets in Botswana with regards to the outbreak. In Botswana due to the data paucity and the maiden nature the pandemic data munging shall be used to scrap for available information on the pandemic locally.\n",
    "\n",
    "Data sources used\n",
    " \n",
    " - Botswana Government Facebook Page\n",
    " - Covid-19 MHW"
   ]
  },
  {
   "cell_type": "markdown",
   "metadata": {},
   "source": [
    "### The logistic Growth Formula\n",
    "\n",
    "<hr>\n",
    "\n",
    " <h6 href=\"#The-logistic-Growth-Formula\">Logistic Growth</h6>\n",
    "\n",
    "In its entirety it is characterized by its rapid upwards growth and an equally decline in growth at the end as you get closer to the maximum number. \n",
    "\n",
    "Below is a visually presentation of the logistic growth, with a clear subsidizing of growth of garph at end, illustrated by the sharp line.\n",
    "\n",
    "<img src=\"img/logistic.png\">\n",
    "\n",
    "\n"
   ]
  },
  {
   "cell_type": "markdown",
   "metadata": {},
   "source": [
    "\n",
    "<h6 href=\"#The-Formula\">The Formula Explained</h6>\n",
    "\n",
    "<img src=\"img/logistic_for.png\">\n",
    "\n",
    "When we break down the formula for clarity purposes it will read as follows:\n",
    "\n",
    "1. y(t) is the number of cases at any given time t\n",
    "2. c is the limiting value, the maximum capacity for y\n",
    "3. b has to be larger than 0\n",
    "\n",
    "In addition the number of cases in (point 1.) is called the initial value and represented as \n",
    "\n",
    " - c / (1 + a)  in the formula.\n",
    "\n",
    "The maximum growth rate should be at \n",
    "\n",
    " - t = ln(a) / b and y(t) = c / 2\n",
    "\n",
    "\n",
    "\n"
   ]
  },
  {
   "cell_type": "markdown",
   "metadata": {},
   "source": [
    "<h6 href=\"#The-Formula\">Case for Formula Using Botswana Data</h6>\n",
    "\n",
    "Now that formula has been explained I will now make a hypothetical case for the formula using Botswana data I munged.\n",
    "\n",
    "- We need to study the development of the epidemic from time 0 to time 10\n",
    "\n",
    "  \n",
    "  The data of infections in Botswana as per collection from various sources at 13/04/2020\n",
    "  \n",
    "  <img src=\"img/infections_botswana.png\">\n",
    "\n",
    "- The maximum number of infected people, c, is 13\n",
    "- let assume we start with an initial value of 1 infected person, so c / (1 + a) = 1, giving 13 /\n",
    "  (1 + a) = 1, giving a = 12\n",
    "- We assume at the beginning of the infection, each infected person infects 2 other people, so the\n",
    "  growth rate b = 2\n",
    "\n"
   ]
  },
  {
   "cell_type": "markdown",
   "metadata": {},
   "source": [
    "<h6 href=\"#Writing-the-formula-in-Python\">Writing the formula in Python</h6>\n",
    "\n",
    "But before we can compute the formula we first have to include the values a, and b as they are missing above to have the formula look as follows:\n",
    "\n",
    " <img src=\"img/new_formula.png\">\n",
    " \n",
    " If you look closer you will realize a is now 12 whilst b has been replced by 2.\n",
    " \n",
    " To use the same formula programmatically it best it is created as a function that can always be called on when analysing the \n",
    " data.\n",
    " \n",
    " The function will be created as follows:\n",
    "\n"
   ]
  },
  {
   "cell_type": "code",
   "execution_count": 2,
   "metadata": {},
   "outputs": [],
   "source": [
    "def my_logistic(t):  \n",
    "    return c / (1 + a * np.exp(-b*t))"
   ]
  },
  {
   "cell_type": "markdown",
   "metadata": {},
   "source": [
    "\n",
    "We can then use formula by calling my_logistic function to calculate the value of y for each t from 0  to 10. This then gives us the number of infected people at every time interval. \n",
    "\n",
    "<h6 style=\"font-size:16px\">Illustrating the Growth</h6>\n",
    "\n",
    "This will illustrate the steep growth of infections as expected with the stabilizing of the growth towards the end. Let us run the function to test if it will give us that growth trend:\n",
    "\n",
    "We do that by writing the following python code: "
   ]
  },
  {
   "cell_type": "code",
   "execution_count": 30,
   "metadata": {},
   "outputs": [],
   "source": [
    "#Function to execute the logistic growth curve\n",
    "def my_logistic(t):  \n",
    "    return 13 / (1 + 12 * math.exp(-2 * t))"
   ]
  },
  {
   "cell_type": "code",
   "execution_count": 31,
   "metadata": {},
   "outputs": [
    {
     "data": {
      "text/plain": [
       "[<matplotlib.lines.Line2D at 0x1cb4acb1b48>]"
      ]
     },
     "execution_count": 31,
     "metadata": {},
     "output_type": "execute_result"
    },
    {
     "data": {
      "image/png": "[encoded data removed]",
      "text/plain": [
       "<Figure size 432x288 with 1 Axes>"
      ]
     },
     "metadata": {
      "needs_background": "light"
     },
     "output_type": "display_data"
    }
   ],
   "source": [
    "x = np.linspace(0, 10, 11) \n",
    "y = [my_logistic(i) for i in x] \n",
    "plt.plot(x, y)"
   ]
  },
  {
   "cell_type": "markdown",
   "metadata": {},
   "source": [
    " \n",
    " <h5>Quick Requirements Check</h5>\n",
    " \n",
    " As clearly can be seen above on the test; the curve clearly meets the charactersitics of the logistic growth curve. The most important point here being that this trend is met not only using the logistic growth formula but using data from Botswana. The graph shape does meet our requirements using our data. \n",
    " \n",
    " There is one more thing though that we need to complete our model:  \n",
    " \n",
    " - The real curve of the Corona Virus spread in Botswana"
   ]
  },
  {
   "cell_type": "markdown",
   "metadata": {},
   "source": [
    "To model the real curve of the Corona Virus spread in Botswana I will need real data on Covid-19 in Botswana. Based on the different sources I have been able to munge the following data on the covid-19 situation in Botswana:  "
   ]
  },
  {
   "cell_type": "markdown",
   "metadata": {},
   "source": [
    "### Building the real Corona Virus Curve Botswana\n",
    "\n",
    "<hr>\n",
    "\n",
    "The following links are some sources of Covid-19 data I could collect.\n",
    "\n",
    "- BwGovernment Facebook page\n",
    "- Botswana Presidential Task Force Covid-19 Bulletin\n",
    "\n",
    "Due to the nature of the data being minimal because of Botswana's maiden nature in the pandemic I will directly import the relevant data into the ollowing dataFrame:"
   ]
  },
  {
   "cell_type": "code",
   "execution_count": 40,
   "metadata": {},
   "outputs": [
    {
     "data": {
      "text/html": [
       "<div>\n",
       "<style scoped>\n",
       "    .dataframe tbody tr th:only-of-type {\n",
       "        vertical-align: middle;\n",
       "    }\n",
       "\n",
       "    .dataframe tbody tr th {\n",
       "        vertical-align: top;\n",
       "    }\n",
       "\n",
       "    .dataframe thead th {\n",
       "        text-align: right;\n",
       "    }\n",
       "</style>\n",
       "<table border=\"1\" class=\"dataframe\">\n",
       "  <thead>\n",
       "    <tr style=\"text-align: right;\">\n",
       "      <th></th>\n",
       "      <th>Date</th>\n",
       "      <th>location</th>\n",
       "      <th>New Cases</th>\n",
       "      <th>New_Deaths</th>\n",
       "      <th>Total Cases</th>\n",
       "      <th>Total Deaths</th>\n",
       "    </tr>\n",
       "  </thead>\n",
       "  <tbody>\n",
       "    <tr>\n",
       "      <th>0</th>\n",
       "      <td>Mar 28 2020, 00:00:00</td>\n",
       "      <td>Botswana</td>\n",
       "      <td>0</td>\n",
       "      <td>0</td>\n",
       "      <td>0</td>\n",
       "      <td>0</td>\n",
       "    </tr>\n",
       "    <tr>\n",
       "      <th>1</th>\n",
       "      <td>Mar 29 2020, 00:00:00</td>\n",
       "      <td>Botswana</td>\n",
       "      <td>3</td>\n",
       "      <td>0</td>\n",
       "      <td>3</td>\n",
       "      <td>0</td>\n",
       "    </tr>\n",
       "    <tr>\n",
       "      <th>2</th>\n",
       "      <td>Apr 01 2020, 00:00:00</td>\n",
       "      <td>Botswana</td>\n",
       "      <td>1</td>\n",
       "      <td>1</td>\n",
       "      <td>4</td>\n",
       "      <td>1</td>\n",
       "    </tr>\n",
       "    <tr>\n",
       "      <th>3</th>\n",
       "      <td>Apr 02 2020, 00:00:00</td>\n",
       "      <td>Botswana</td>\n",
       "      <td>0</td>\n",
       "      <td>0</td>\n",
       "      <td>4</td>\n",
       "      <td>1</td>\n",
       "    </tr>\n",
       "    <tr>\n",
       "      <th>4</th>\n",
       "      <td>Apr 04 2020, 00:00:00</td>\n",
       "      <td>Botswana</td>\n",
       "      <td>0</td>\n",
       "      <td>0</td>\n",
       "      <td>4</td>\n",
       "      <td>1</td>\n",
       "    </tr>\n",
       "    <tr>\n",
       "      <th>5</th>\n",
       "      <td>Apr 05 2020, 00:00:00</td>\n",
       "      <td>Botswana</td>\n",
       "      <td>2</td>\n",
       "      <td>0</td>\n",
       "      <td>6</td>\n",
       "      <td>1</td>\n",
       "    </tr>\n",
       "    <tr>\n",
       "      <th>6</th>\n",
       "      <td>Apr 06 2020, 00:00:00</td>\n",
       "      <td>Botswana</td>\n",
       "      <td>0</td>\n",
       "      <td>0</td>\n",
       "      <td>6</td>\n",
       "      <td>1</td>\n",
       "    </tr>\n",
       "    <tr>\n",
       "      <th>7</th>\n",
       "      <td>Apr 09 2020, 00:00:00</td>\n",
       "      <td>Botswana</td>\n",
       "      <td>7</td>\n",
       "      <td>0</td>\n",
       "      <td>13</td>\n",
       "      <td>1</td>\n",
       "    </tr>\n",
       "  </tbody>\n",
       "</table>\n",
       "</div>"
      ],
      "text/plain": [
       "                    Date  location  New Cases  New_Deaths  Total Cases  \\\n",
       "0  Mar 28 2020, 00:00:00  Botswana          0           0            0   \n",
       "1  Mar 29 2020, 00:00:00  Botswana          3           0            3   \n",
       "2  Apr 01 2020, 00:00:00  Botswana          1           1            4   \n",
       "3  Apr 02 2020, 00:00:00  Botswana          0           0            4   \n",
       "4  Apr 04 2020, 00:00:00  Botswana          0           0            4   \n",
       "5  Apr 05 2020, 00:00:00  Botswana          2           0            6   \n",
       "6  Apr 06 2020, 00:00:00  Botswana          0           0            6   \n",
       "7  Apr 09 2020, 00:00:00  Botswana          7           0           13   \n",
       "\n",
       "   Total Deaths  \n",
       "0             0  \n",
       "1             0  \n",
       "2             1  \n",
       "3             1  \n",
       "4             1  \n",
       "5             1  \n",
       "6             1  \n",
       "7             1  "
      ]
     },
     "execution_count": 40,
     "metadata": {},
     "output_type": "execute_result"
    }
   ],
   "source": [
    "# Importation of data into the data frame\n",
    "bots_estimation = pd.DataFrame({\"Date\" : [da_28 ,da_29,da_1,da_2,da_4,da_5,da_6,da_9],\n",
    "                           \"location\" : ['Botswana','Botswana','Botswana','Botswana','Botswana','Botswana','Botswana','Botswana'],\n",
    "                           \"New Cases\" : [0,3,1,0,0,2,0,7], \n",
    "                           \"New_Deaths\" : [0,0,1,0,0,0,0,0],\n",
    "                           \"Total Cases\" : [0,3,4,4,4,6,6,13],\n",
    "                           \"Total Deaths\" : [0,0,1,1,1,1,1,1]},\n",
    ")\n",
    "bots_estimation"
   ]
  },
  {
   "cell_type": "markdown",
   "metadata": {},
   "source": [
    " <h5>Covid-19 Spread Botswana</h5>\n",
    " \n",
    " \n",
    " As can be seen above the data we need is not as clear cut out for us as we hope. I will do a little data manipulation and wrangling to have it the right form we need as follows:\n",
    " \n",
    " \n",
    " "
   ]
  },
  {
   "cell_type": "code",
   "execution_count": 42,
   "metadata": {},
   "outputs": [
    {
     "data": {
      "text/html": [
       "<div>\n",
       "<style scoped>\n",
       "    .dataframe tbody tr th:only-of-type {\n",
       "        vertical-align: middle;\n",
       "    }\n",
       "\n",
       "    .dataframe tbody tr th {\n",
       "        vertical-align: top;\n",
       "    }\n",
       "\n",
       "    .dataframe thead th {\n",
       "        text-align: right;\n",
       "    }\n",
       "</style>\n",
       "<table border=\"1\" class=\"dataframe\">\n",
       "  <thead>\n",
       "    <tr style=\"text-align: right;\">\n",
       "      <th></th>\n",
       "      <th>Timestep</th>\n",
       "      <th>Total Cases</th>\n",
       "    </tr>\n",
       "  </thead>\n",
       "  <tbody>\n",
       "    <tr>\n",
       "      <th>0</th>\n",
       "      <td>0</td>\n",
       "      <td>0</td>\n",
       "    </tr>\n",
       "    <tr>\n",
       "      <th>1</th>\n",
       "      <td>1</td>\n",
       "      <td>3</td>\n",
       "    </tr>\n",
       "    <tr>\n",
       "      <th>2</th>\n",
       "      <td>2</td>\n",
       "      <td>4</td>\n",
       "    </tr>\n",
       "    <tr>\n",
       "      <th>3</th>\n",
       "      <td>3</td>\n",
       "      <td>4</td>\n",
       "    </tr>\n",
       "    <tr>\n",
       "      <th>4</th>\n",
       "      <td>4</td>\n",
       "      <td>4</td>\n",
       "    </tr>\n",
       "    <tr>\n",
       "      <th>5</th>\n",
       "      <td>5</td>\n",
       "      <td>6</td>\n",
       "    </tr>\n",
       "    <tr>\n",
       "      <th>6</th>\n",
       "      <td>6</td>\n",
       "      <td>6</td>\n",
       "    </tr>\n",
       "    <tr>\n",
       "      <th>7</th>\n",
       "      <td>7</td>\n",
       "      <td>13</td>\n",
       "    </tr>\n",
       "  </tbody>\n",
       "</table>\n",
       "</div>"
      ],
      "text/plain": [
       "   Timestep  Total Cases\n",
       "0         0            0\n",
       "1         1            3\n",
       "2         2            4\n",
       "3         3            4\n",
       "4         4            4\n",
       "5         5            6\n",
       "6         6            6\n",
       "7         7           13"
      ]
     },
     "execution_count": 42,
     "metadata": {},
     "output_type": "execute_result"
    }
   ],
   "source": [
    "# Import the data \n",
    "\n",
    "bots_estimation = bots_estimation['Total Cases'] \n",
    "bots_estimation = bots_estimation.reset_index(drop=False) \n",
    "bots_estimation.columns = ['Timestep', 'Total Cases'] \n",
    "\n",
    "bots_estimation.head(8)"
   ]
  },
  {
   "cell_type": "markdown",
   "metadata": {},
   "source": [
    " <h5>Nonlinear Least Squares Estimation</h5>\n",
    " \n",
    "Now that we have the data, we can pick up that we only have the number of cases for every day whic we can add to our function(formula) but we still have missing parameters a,b, and c.\n",
    "\n",
    "To include these we will do so through the help of another mathematic trick known as Nonlinear Least Squartes estimation.\n",
    "\n",
    "We will start by defining the logistic function that has to be fitted in:\n",
    "\n",
    "(we have to tamper with the function we earlier built for Logistic Growth)\n"
   ]
  },
  {
   "cell_type": "code",
   "execution_count": 47,
   "metadata": {},
   "outputs": [],
   "source": [
    "#defining the logistic function\n",
    "def my_logistic(t):  \n",
    "    return c / (1 + a * np.exp(-b*t))"
   ]
  },
  {
   "cell_type": "code",
   "execution_count": 44,
   "metadata": {},
   "outputs": [],
   "source": [
    "# Then we randomly initialize a, b and c\n",
    "p0=np.random.exponential(size=3)\n",
    "\n",
    "#After which we set their upper and lower bounds for a, b and c\n",
    "bounds=(0,[100000.,3.,2000000])\n",
    "\n",
    "#next we will import so Scipy runs a Nonlinear Least Squares optimization and gives us the values for a, b and c that minimize the Least Square Error of our model.\n",
    "x = np.array(bots_estimation['Timestep'])+1\n",
    "y = np.array(bots_estimation['Total Cases'])\n",
    "(a,b,c),cov=optim.curve_fit(my_logistic, x, y, bounds=bounds, p0=p0)"
   ]
  },
  {
   "cell_type": "markdown",
   "metadata": {},
   "source": [
    "### Results\n",
    "\n",
    "<hr>\n",
    "\n",
    "<h5>The Estimation Model</h5>\n",
    "\n",
    "Below we then plot the Logistic Model agaisnt the Real Data( which is the Spread of Covid-19 Spread Botswana). The graph then comes out as follows: \n"
   ]
  },
  {
   "cell_type": "code",
   "execution_count": 48,
   "metadata": {},
   "outputs": [
    {
     "data": {
      "text/plain": [
       "Text(0, 0.5, 'Confirmed Cases: Infected')"
      ]
     },
     "execution_count": 48,
     "metadata": {},
     "output_type": "execute_result"
    },
    {
     "data": {
      "image/png": "[encoded data removed]",
      "text/plain": [
       "<Figure size 432x288 with 1 Axes>"
      ]
     },
     "metadata": {
      "needs_background": "light"
     },
     "output_type": "display_data"
    }
   ],
   "source": [
    "plt.scatter(x,y)\n",
    "plt.plot(x,my_logistic(x))\n",
    "plt.title('Logistic Model vs Real Confirmed Cases Botswana')\n",
    "plt.legend(['Logistic Model', 'Real Data:Botswana Spread'])\n",
    "plt.xlabel('Time')\n",
    "plt.ylabel('Confirmed Cases: Infected')"
   ]
  },
  {
   "cell_type": "markdown",
   "metadata": {},
   "source": [
    "<h5>Discussion</h5>"
   ]
  },
  {
   "cell_type": "markdown",
   "metadata": {},
   "source": [
    "As clearly visible on the model the real data spread follows the rate at which confirmed cases are revealed in Botswana timourously. The graph is steadily moving up and starkly jumped upward on the 09/04/2020. In a much more desirable scenario we would have hoped for the curve to follow a similar route to the Logistic Model Curve. \n",
    "\n",
    "The visual shows disintegrations between the two lines though they still share the same characteristic of an upward increase. This is an indication that the model is usable, but there need be more investigation as to the discrepancies visible.\n",
    "\n",
    "A quick look at the BOTSWANA SPREAD ANALYSIS might give us hints:"
   ]
  },
  {
   "cell_type": "code",
   "execution_count": 49,
   "metadata": {},
   "outputs": [
    {
     "data": {
      "image/png": "[encoded data removed]",
      "text/plain": [
       "<Figure size 432x288 with 1 Axes>"
      ]
     },
     "metadata": {
      "needs_background": "light"
     },
     "output_type": "display_data"
    }
   ],
   "source": [
    "#plotting a line graph for Spread analysis\n",
    "\n",
    "plt.plot(['28/03', '29/03', '01/04', '02/04', '04/04', '05/04', '06/04', '09/04'],[0,3,4,4,4,6,6,13])\n",
    "plt.ylabel('Number Of Positive Cases')\n",
    "plt.xlabel('Date Confirmed')\n",
    "plt.show()"
   ]
  },
  {
   "cell_type": "markdown",
   "metadata": {},
   "source": [
    "Now if we compare the graphs it is clear SPREAD ANALYSIS on both graphs are the same. This means it is definitely the Spread Rate based on the data as collected from the different sources. A closer look at the graph also shows the period (dates) in which the data was released for the data was not consistent. It does not follow a uniform pattern. This might just be the cause of the skewed spread rate. Further investigation would need to be carried on this."
   ]
  },
  {
   "cell_type": "markdown",
   "metadata": {},
   "source": [
    "### Conclusion\n",
    "\n",
    "<hr>\n",
    "\n"
   ]
  },
  {
   "cell_type": "code",
   "execution_count": 50,
   "metadata": {
    "scrolled": true
   },
   "outputs": [
    {
     "data": {
      "text/plain": [
       "array([0.14081866, 0.27727215, 0.70583397])"
      ]
     },
     "execution_count": 50,
     "metadata": {},
     "output_type": "execute_result"
    }
   ],
   "source": [
    "p0"
   ]
  },
  {
   "cell_type": "code",
   "execution_count": 51,
   "metadata": {},
   "outputs": [
    {
     "data": {
      "text/plain": [
       "(99999.96754837502, 0.31164340579411337, 95096.99351582822)"
      ]
     },
     "execution_count": 51,
     "metadata": {},
     "output_type": "execute_result"
    }
   ],
   "source": [
    "a,b,c"
   ]
  },
  {
   "cell_type": "markdown",
   "metadata": {},
   "source": [
    "\n",
    "This piece has developed a model that produces a logistic function that gives similar characteristics of spread rates observed from data on Botswana though it does not necessarily follow the same line. A quick analysis some of the datas of countries battling the Corona Virus provides near similar lines.  \n",
    "\n",
    "It follows that more validation of the model for Botswana data is needed to compare for more accuracy and estimations so it could be used by decision makers. this will also enable for monitoring closely whether future trends follow the model.  \n",
    "\n",
    "There are also some observations that came from the model:\n",
    "\n",
    " - c is 95 096. This based on model mean that the maximum limit for the number of infections in Botswana would be 95 096.\n",
    "\n",
    "The model also allows for calculation of when the maximum infection rate occured\n",
    "\n",
    " - t = ln(a) / b = ln(0.14) / 0.2772 = day 7\n",
    " - The number of infections at that moment was y = c / 2 = 6.5\n",
    " \n",
    "With further validation this model could be used by decision makers to make relevant decisions based on model results."
   ]
  },
  {
   "cell_type": "markdown",
   "metadata": {},
   "source": [
    "#### References"
   ]
  },
  {
   "cell_type": "markdown",
   "metadata": {},
   "source": [
    "\n",
    "- Logistic Growth Model\n",
    "  https/www.maa.org/book/export/html\n",
    "  \n",
    "- https:statista.com/chart/21331/share-of-covid-19-cases-deaths-in-us-states-counties\n",
    "\n",
    "- https//link.springer.com/chapter/10/111\n",
    "\n",
    "- Humanitarian Data Exchange\n",
    "  https:data.humdata.org/m/dataset\n",
    "  \n",
    "- https://pythonprogramming.net/live-graphs-matplotbib-tutorial\n",
    "\n",
    "- Italian Corona Viruspressures and flattening the curve -an epidemiology expert explains \n",
    "  https://www.weforum.org/agenda/2020/03/covid-19coronavirus-epidemiology-expert-explains-Italian-death-rate/\n",
    "  \n",
    "- https://raw.githubusercontent.com/CSSEGISandData/COVID-19/master/csse_covid_19_data/csse_covid_19_time_series/time_series_covid19_confirmed_global.csv\n",
    "\n",
    "- https://raw.githubusercontent.com/CSSEGISandData/COVID-19/master/csse_covid_19_data/csse_covid_19_time_series/time_series_covid19_deaths_global.csv\n",
    "  \n",
    "- https://raw.githubusercontent.com/CSSEGISandData/COVID-19/web-data/data/cases_country.csv\n",
    "\n",
    "- Use logistic growth models \n",
    "https://courses.lumenlearning.com/ivytech-collegealgebra/chapter/use-logistic-growth-models/\n",
    "\n",
    " - BwGovernment Facebook page\n",
    " https://www.facebook.com/BwGovernment\n",
    " \n",
    " - Covid-19 MHW\n",
    " https://www.facebook.com/Covid-19 \n"
   ]
  }
 ],
 "metadata": {
  "kernelspec": {
   "display_name": "Python 3",
   "language": "python",
   "name": "python3"
  },
  "language_info": {
   "codemirror_mode": {
    "name": "ipython",
    "version": 3
   },
   "file_extension": ".py",
   "mimetype": "text/x-python",
   "name": "python",
   "nbconvert_exporter": "python",
   "pygments_lexer": "ipython3",
   "version": "3.7.6"
  }
 },
 "nbformat": 4,
 "nbformat_minor": 4
}
